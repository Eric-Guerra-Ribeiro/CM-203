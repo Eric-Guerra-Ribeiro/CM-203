{
 "cells": [
  {
   "cell_type": "markdown",
   "metadata": {
    "deletable": false,
    "editable": false,
    "nbgrader": {
     "cell_type": "markdown",
     "checksum": "2599b179b569f495ebc0f4ddf8049bb8",
     "grade": false,
     "grade_id": "jupyter",
     "locked": true,
     "schema_version": 3,
     "solution": false
    }
   },
   "source": [
    "**Instituto Tecnológico de Aeronáutica – ITA**\n",
    "\n",
    "**Visão Computacional - CM-203**\n",
    "\n",
    "**Professores:** \n",
    "\n",
    "Arthur Fernandes de Morais\n",
    "\n",
    "Elcio Hideiti Shiguemori\n",
    "\n",
    "Gabriel Adriano de Melo\n",
    "\n",
    "Marcos Ricardo Omena de Albuquerque Maximo\n",
    "\n",
    "**Orientações padrão:**\n",
    "\n",
    "Antes de você entregar o Lab, tenha certeza de que tudo está rodando corretamente (sequencialmente): Primeiro, **reinicie o kernel** (`Runtime->Restart Runtime` no Colab ou `Kernel->Restart` no Jupyter), depois rode todas as células (`Runtime->Run All` no Colab ou `Cell->Run All` no Jupyter) e verifique que as células rodem sem erros, principalmente as de correção automática que apresentem os `assert`s.\n",
    "\n",
    "É muito importante que vocês não apaguem as células de resposta para preenchimento, isto é, as que contenham o `ESCREVA SEU CÓDIGO AQUI` ou o `ESCREVA SUA RESPOSTA AQUI`, além das células dos `assert`, pois elas contém metadados com o id da célula para os sistemas de correção automática e manual. O sistema de correção automática executa todo o código do notebook, adicionando testes extras nas células de teste. Não tem problema vocês criarem mais células, mas não apaguem as células de correção. Mantenham a solução dentro do espaço determinado, por organização. Se por acidente acontecer de apagarem alguma célula que deveria ter a resposta, recomendo iniciar de outro notebook (ou dar um `Undo` se possível), pois infelizmente recriar a célula não resolve.\n",
    "\n",
    "Os Notebooks foram programados para serem compatíveis com o Google Colab, instalando as dependências necessárias automaticamente a baixando os datasets necessários a cada lab. Os comandos que se iniciam por ! (ponto de exclamação) são de bash e também podem ser executados no terminal do Linux."
   ]
  },
  {
   "cell_type": "markdown",
   "metadata": {
    "deletable": false,
    "editable": false,
    "nbgrader": {
     "cell_type": "markdown",
     "checksum": "993a068443789faf126ee571dee61e11",
     "grade": false,
     "grade_id": "cell-f4470462366eecea",
     "locked": true,
     "schema_version": 3,
     "solution": false,
     "task": false
    }
   },
   "source": [
    "## Instalações e Configurações\n",
    "\n",
    "As células a seguir instalam dependências e configuram o notebook para a realização do laboratório."
   ]
  },
  {
   "cell_type": "code",
   "execution_count": null,
   "metadata": {
    "deletable": false,
    "editable": false,
    "nbgrader": {
     "cell_type": "code",
     "checksum": "d873355e1df24ac41478adfd618e4db2",
     "grade": false,
     "grade_id": "cell-fac36d6c0eb5f93b",
     "locked": true,
     "schema_version": 3,
     "solution": false,
     "task": false
    }
   },
   "outputs": [],
   "source": [
    "# This cell installs the dependencies\n",
    "\n",
    "!pip install numpy matplotlib"
   ]
  },
  {
   "cell_type": "code",
   "execution_count": null,
   "metadata": {
    "deletable": false,
    "editable": false,
    "nbgrader": {
     "cell_type": "code",
     "checksum": "c4d53e8d12ac3f0e1b4a175279569af5",
     "grade": false,
     "grade_id": "cell-872c69a004c33715",
     "locked": true,
     "schema_version": 3,
     "solution": false,
     "task": false
    }
   },
   "outputs": [],
   "source": [
    "# This cell imports the needed libraries\n",
    "\n",
    "import numpy as np\n",
    "import matplotlib.pyplot as plt\n",
    "from math import pi, sin, cos, inf"
   ]
  },
  {
   "cell_type": "code",
   "execution_count": null,
   "metadata": {
    "deletable": false,
    "editable": false,
    "nbgrader": {
     "cell_type": "code",
     "checksum": "1065ddc5080c418ba0dff1d3d3af614e",
     "grade": false,
     "grade_id": "cell-d8d12d527c38aa38",
     "locked": true,
     "schema_version": 3,
     "solution": false,
     "task": false
    }
   },
   "outputs": [],
   "source": [
    "# This cell configures matplotlib\n",
    "\n",
    "plt.rc('text', usetex=True)\n",
    "plt.rcParams.update({'font.family': 'serif'})\n",
    "plt.rcParams.update({'font.size': 14})"
   ]
  },
  {
   "cell_type": "code",
   "execution_count": null,
   "metadata": {
    "deletable": false,
    "editable": false,
    "nbgrader": {
     "cell_type": "code",
     "checksum": "b54b24db9be32cd1390417b40d04f624",
     "grade": false,
     "grade_id": "cell-eccb4cd571c2dd47",
     "locked": true,
     "schema_version": 3,
     "solution": false,
     "task": false
    }
   },
   "outputs": [],
   "source": [
    "# This cell defines a function for resetting the random seed\n",
    "\n",
    "def reset_seed():\n",
    "    np.random.seed(42) # answer to the Ultimate Question of Life, the Universe, and Everything"
   ]
  },
  {
   "cell_type": "markdown",
   "metadata": {
    "deletable": false,
    "editable": false,
    "nbgrader": {
     "cell_type": "markdown",
     "checksum": "53564c40b3526bc4d37a1999a07f47b8",
     "grade": false,
     "grade_id": "cell-2e315878416a38f6",
     "locked": true,
     "schema_version": 3,
     "solution": false,
     "task": false
    }
   },
   "source": [
    "## Implementação de Simulador Estocástico\n",
    "\n",
    "Primeiramente, para entender melhor o modelo matemático usado pelo filtro de Kalman, você implementará um simulador de sistema dinâmico estocástico. Considere as equações em espaço de estados mostradas em aula:\n",
    "\\begin{equation}\n",
    "\\mathbf{x}_t = \\mathbf{A} \\mathbf{x}_{t-1} + \\mathbf{B} \\mathbf{u}_t + \\mathbf{w}_t,\n",
    "\\end{equation}\n",
    "\\begin{equation}\n",
    "\\mathbf{z}_t = \\mathbf{C} \\mathbf{x}_t + \\mathbf{v}_t,\n",
    "\\end{equation}\n",
    "em que $\\mathbf{A}$, $\\mathbf{B}$ e $\\mathbf{C}$ são matrizes, $\\mathbf{x}_t$ é o estado no tempo de amostragem (instante discreto) $t$, $\\mathbf{u}_t$ é a entrada de controle relativa ao tempo de amostragem $t$, e $\\mathbf{w}_t$ e $\\mathbf{v}_t$ são ruídos distribuídos tais que $\\mathbf{w}_t \\sim \\mathcal{N}(\\mathbf{0}, \\mathbf{Q})$ e $\\mathbf{v}_t \\sim \\mathcal{N}(\\mathbf{0}, \\mathbf{R})$.\n",
    "Note que embora o filtro de Kalman considere que o sistema dinâmico pode ser variante no tempo, i.e. as matrizes que determinam o sistema podem mudar com o tempo, estaremos considerando aqui um sistema invariante no tempo por simplicidade."
   ]
  },
  {
   "cell_type": "markdown",
   "metadata": {
    "deletable": false,
    "editable": false,
    "nbgrader": {
     "cell_type": "markdown",
     "checksum": "6a036f3531a7bc5e1a150191d541ef8a",
     "grade": false,
     "grade_id": "cell-68526cb80eb80c9f",
     "locked": true,
     "schema_version": 3,
     "solution": false,
     "task": false
    }
   },
   "source": [
    "Na célula a seguir, define-se a classe `StochasticDynamicalSystemSimulator` para representar o simulador de sistema dinâmico estocástico."
   ]
  },
  {
   "cell_type": "code",
   "execution_count": null,
   "metadata": {
    "deletable": false,
    "editable": false,
    "nbgrader": {
     "cell_type": "code",
     "checksum": "7775ecc86a48061fb0087a76c5f9e2b2",
     "grade": false,
     "grade_id": "cell-9601b565ca8f6e71",
     "locked": true,
     "schema_version": 3,
     "solution": false,
     "task": false
    }
   },
   "outputs": [],
   "source": [
    "class StochasticDynamicalSystemSimulator:\n",
    "    \"\"\"\n",
    "    Represents a stochastic dynamical system simulator.\n",
    "    \"\"\"\n",
    "    def __init__(self, A, B, C, Q, R, x0):\n",
    "        \"\"\"\n",
    "        Initializes the simulator.\n",
    "        :param A: the state transition matrix.\n",
    "        :param B: the input matrix.\n",
    "        :param C: the observation matrix.\n",
    "        :param Q: the covariance matrix of the process noise.\n",
    "        :param R: the covariance matrix of the observation noise.\n",
    "        :param x0: the initial state of the simulation.\n",
    "        \"\"\"\n",
    "        self.A = A\n",
    "        self.B = B\n",
    "        self.C = C\n",
    "        self.Q = Q\n",
    "        self.R = R\n",
    "        self.x = x0"
   ]
  },
  {
   "cell_type": "markdown",
   "metadata": {
    "deletable": false,
    "editable": false,
    "nbgrader": {
     "cell_type": "markdown",
     "checksum": "4cc2273c1e549e094fe476a92b5a7ab9",
     "grade": false,
     "grade_id": "cell-5a636e95f626a33e",
     "locked": true,
     "schema_version": 3,
     "solution": false,
     "task": false
    }
   },
   "source": [
    "Para permitir simulações a fim de testar a implementação, define-se matrizes associados um simples sistema cinemático de 1 dimensão:\n",
    "\\begin{equation}\n",
    "\\mathbf{x}_t = \n",
    "\\begin{bmatrix}\n",
    "x_t \\\\ \\dot{x}_t\n",
    "\\end{bmatrix},\n",
    "\\end{equation}\n",
    "\\begin{equation}\n",
    "\\mathbf{A} = \n",
    "\\begin{bmatrix}\n",
    "1 & T \\\\ 0 & 1\n",
    "\\end{bmatrix},\n",
    "\\end{equation}\n",
    "\\begin{equation}\n",
    "\\mathbf{B} = \n",
    "\\begin{bmatrix}\n",
    "T^2/2 \\\\ T,\n",
    "\\end{bmatrix},\n",
    "\\end{equation}\n",
    "\\begin{equation}\n",
    "\\mathbf{C} = \n",
    "\\begin{bmatrix}\n",
    "1 & 0\n",
    "\\end{bmatrix},\n",
    "\\end{equation}\n",
    "em que $T$ é o tempo de amostragem. Conforme comentado em sala, para determinar $\\mathbf{Q}$, adota-se um ruído no comando gaussiano com média zero e covariância $\\mathbf{M}$, e então calcula-se\n",
    "\\begin{equation}\n",
    "\\mathbf{Q} = \\mathbf{B} \\mathbf{M} \\mathbf{B}^T.\n",
    "\\end{equation}\n",
    "Além disso, tem-se\n",
    "\\begin{equation}\n",
    "\\mathbf{M} = \\sigma_{\\mathrm{acc}}^2,\n",
    "\\end{equation}\n",
    "\\begin{equation}\n",
    "\\mathbf{R} = \\sigma_{\\mathrm{cam}}^2,\n",
    "\\end{equation}\n",
    "em que $\\sigma_{\\mathrm{acc}}$ e $\\sigma_{\\mathrm{cam}}$ são as variâncias associadas com as incertezas na aceleração e na observação, respectivamente."
   ]
  },
  {
   "cell_type": "code",
   "execution_count": null,
   "metadata": {
    "deletable": false,
    "editable": false,
    "nbgrader": {
     "cell_type": "code",
     "checksum": "edfa81679d0dd920eda16a940c0ce1b0",
     "grade": false,
     "grade_id": "cell-7539c025540bb65f",
     "locked": true,
     "schema_version": 3,
     "solution": false,
     "task": false
    }
   },
   "outputs": [],
   "source": [
    "def get_system_1d(T, sigma_acc, sigma_cam):\n",
    "    \"\"\"\n",
    "    Obtains a stochastic dynamical system based on kinematics equations along a single axis \n",
    "    whose states are 1D position and velocity, and the input is 1D acceleration. Moreover, the\n",
    "    observation is the position.\n",
    "    :return A: the state transition matrix.\n",
    "    :return B: the input matrix.\n",
    "    :return C: the observation matrix.\n",
    "    :return Q: the covariance matrix of the process noise.\n",
    "    :return R: the covariance matrix of the observation noise.\n",
    "    \"\"\"\n",
    "    A = np.array([[1.0, T], [0.0, 1.0]])\n",
    "    B = np.array([[T ** 2 / 2.0], [T]])\n",
    "    C = np.array([[1.0, 0.0]])\n",
    "    M = np.array([[sigma_acc ** 2]])\n",
    "    Q = B @ M @ B.T\n",
    "    R = np.array([[sigma_cam ** 2]])\n",
    "    return A, B, C, Q, R"
   ]
  },
  {
   "cell_type": "markdown",
   "metadata": {
    "deletable": false,
    "editable": false,
    "nbgrader": {
     "cell_type": "markdown",
     "checksum": "84db00099277d00069876a2ae9193dd9",
     "grade": false,
     "grade_id": "cell-8e4019be3aad7b56",
     "locked": true,
     "schema_version": 3,
     "solution": false,
     "task": false
    }
   },
   "source": [
    "A seguir, implemente o método `step()` (da classe `StochasticDynamicalSystemSimulator`), que executa um passo de simulação de acordo com\n",
    "\\begin{equation}\n",
    "\\mathbf{x}_t = \\mathbf{A} \\mathbf{x}_{t-1} + \\mathbf{B} \\mathbf{u}_t + \\mathbf{w}_t.\n",
    "\\end{equation}\n",
    "Dica: para gerar o ruído $\\mathbf{w}_t$, use a função `np.random.multivariate_normal()` do NumPy."
   ]
  },
  {
   "cell_type": "code",
   "execution_count": null,
   "metadata": {
    "deletable": false,
    "nbgrader": {
     "cell_type": "code",
     "checksum": "4abbc6263fcbeb3b908187f588681b9e",
     "grade": false,
     "grade_id": "step_answer",
     "locked": false,
     "schema_version": 3,
     "solution": true,
     "task": false
    }
   },
   "outputs": [],
   "source": [
    "def step(self, u : np.ndarray):\n",
    "    \"\"\"\n",
    "    Steps the simulation.\n",
    "    :param u: the control input.\n",
    "    :return: updated state after the step.\n",
    "    \"\"\"\n",
    "    # YOUR CODE HERE\n",
    "    raise NotImplementedError()\n",
    "    return self.x\n",
    "\n",
    "# Adding the step() method to the StochasticDynamicalSystemSimulator class\n",
    "StochasticDynamicalSystemSimulator.step = step"
   ]
  },
  {
   "cell_type": "code",
   "execution_count": null,
   "metadata": {
    "deletable": false,
    "editable": false,
    "nbgrader": {
     "cell_type": "code",
     "checksum": "be1101d21e35de07e4aa65fce7f4f6de",
     "grade": true,
     "grade_id": "step_tests",
     "locked": true,
     "points": 2,
     "schema_version": 3,
     "solution": false,
     "task": false
    }
   },
   "outputs": [],
   "source": [
    "T = 0.1\n",
    "sigma_acc = 2.0\n",
    "sigma_cam = 0.9\n",
    "x0 = np.array([[0.1], [1.0]])\n",
    "u = np.array([[1.0]])\n",
    "reset_seed()\n",
    "A, B, C, Q, R = get_system_1d(T, sigma_acc, sigma_cam)\n",
    "\n",
    "simulator = StochasticDynamicalSystemSimulator(A, B, C, Q, R, x0)\n",
    "x = simulator.step(u)\n",
    "print(x)\n",
    "assert np.max(np.abs(x - np.array([[0.20003286], [1.00065717]]))) < 1e-3"
   ]
  },
  {
   "cell_type": "markdown",
   "metadata": {
    "deletable": false,
    "editable": false,
    "nbgrader": {
     "cell_type": "markdown",
     "checksum": "43dee65af94ff9dbc33c384c291ed5ff",
     "grade": false,
     "grade_id": "cell-374313e2b523680e",
     "locked": true,
     "schema_version": 3,
     "solution": false,
     "task": false
    }
   },
   "source": [
    "O código a seguir, realiza 100 simulações de Monte Carlo, realizando 100 passos de simulação em cada simulação de Monte Carlo. Com isso, ilustra-se a evolução do sistema dinâmico estocástico. Usa-se o modelo cinemático 1D."
   ]
  },
  {
   "cell_type": "code",
   "execution_count": null,
   "metadata": {
    "deletable": false,
    "editable": false,
    "nbgrader": {
     "cell_type": "code",
     "checksum": "8848cf167e4d5465c00b6f86121d7276",
     "grade": false,
     "grade_id": "cell-02fcfa6f206693ea",
     "locked": true,
     "schema_version": 3,
     "solution": false,
     "task": false
    }
   },
   "outputs": [],
   "source": [
    "T = 0.1\n",
    "sigma_acc = 2.0\n",
    "sigma_cam = 0.9\n",
    "x0 = np.array([[0.1], [1.0]])\n",
    "u = np.array([[1.0]])\n",
    "reset_seed()\n",
    "A, B, C, Q, R = get_system_1d(T, sigma_acc, sigma_cam)\n",
    "\n",
    "num_mc = 100\n",
    "num_steps = 100\n",
    "time = T * np.arange(num_steps) + T\n",
    "x_history = np.zeros((A.shape[0], num_steps))\n",
    "plt.figure()\n",
    "for m in range(num_mc):\n",
    "    simulator = StochasticDynamicalSystemSimulator(A, B, C, Q, R, x0)\n",
    "    for i in range(num_steps):\n",
    "        x_history[:, i] = simulator.step(u).T\n",
    "    plt.plot(time, x_history[0, :])\n",
    "plt.xlabel('Time (s)')\n",
    "plt.ylabel('Position (m)')\n",
    "plt.title('Monte Carlo Simulation')\n",
    "plt.grid()"
   ]
  },
  {
   "cell_type": "code",
   "execution_count": null,
   "metadata": {
    "deletable": false,
    "nbgrader": {
     "cell_type": "code",
     "checksum": "faa88003a17bafaa5150b2cb6c753448",
     "grade": false,
     "grade_id": "observe_answer",
     "locked": false,
     "schema_version": 3,
     "solution": true,
     "task": false
    }
   },
   "outputs": [],
   "source": [
    "def observe(self):\n",
    "    \"\"\"\n",
    "    Obtains an observation.\n",
    "    :return: an observation of the system.\n",
    "    \"\"\"\n",
    "    # YOUR CODE HERE\n",
    "    raise NotImplementedError()\n",
    "    return z\n",
    "\n",
    "# Adding the observe() method to the StochasticDynamicalSystemSimulator class\n",
    "StochasticDynamicalSystemSimulator.observe = observe"
   ]
  },
  {
   "cell_type": "code",
   "execution_count": null,
   "metadata": {
    "deletable": false,
    "editable": false,
    "nbgrader": {
     "cell_type": "code",
     "checksum": "90c36c406c03c88bce0c1db88744f14f",
     "grade": true,
     "grade_id": "observe_tests",
     "locked": true,
     "points": 2,
     "schema_version": 3,
     "solution": false,
     "task": false
    }
   },
   "outputs": [],
   "source": [
    "T = 0.1\n",
    "sigma_acc = 2.0\n",
    "sigma_cam = 0.9\n",
    "x0 = np.array([[0.1], [1.0]])\n",
    "u = np.array([[1.0]])\n",
    "z = np.array([[3.0]])\n",
    "A, B, C, Q, R = get_system_1d(T, sigma_acc, sigma_cam)\n",
    "reset_seed()\n",
    "\n",
    "simulator = StochasticDynamicalSystemSimulator(A, B, C, Q, R, x0)\n",
    "z = simulator.observe()\n",
    "assert np.max(np.abs(z - np.array([[0.54704274]]))) < 1e-3\n",
    "print(z)"
   ]
  },
  {
   "cell_type": "markdown",
   "metadata": {
    "deletable": false,
    "editable": false,
    "nbgrader": {
     "cell_type": "markdown",
     "checksum": "5727f4770454566db96d608a239dd330",
     "grade": false,
     "grade_id": "cell-eb8ef62d75235f2a",
     "locked": true,
     "schema_version": 3,
     "solution": false,
     "task": false
    }
   },
   "source": [
    "A célula a seguir gera 10000 observações. Mostra-se um histograma das medidas, além de estatísticas de média e de variância."
   ]
  },
  {
   "cell_type": "code",
   "execution_count": null,
   "metadata": {
    "deletable": false,
    "editable": false,
    "nbgrader": {
     "cell_type": "code",
     "checksum": "aeaa8c7473dd59c95c6eb8d5edd0388b",
     "grade": false,
     "grade_id": "cell-3c94bafba81077c8",
     "locked": true,
     "schema_version": 3,
     "solution": false,
     "task": false
    }
   },
   "outputs": [],
   "source": [
    "T = 0.1\n",
    "sigma_acc = 2.0\n",
    "sigma_cam = 0.9\n",
    "x0 = np.array([[0.1], [1.0]])\n",
    "z = np.array([[3.0]])\n",
    "A, B, C, Q, R = get_system_1d(T, sigma_acc, sigma_cam)\n",
    "reset_seed()\n",
    "\n",
    "num_steps = 10000\n",
    "z_history = np.zeros((C.shape[0], num_steps))\n",
    "plt.figure()\n",
    "simulator = StochasticDynamicalSystemSimulator(A, B, C, Q, R, x0)\n",
    "for i in range(num_steps):\n",
    "    z_history[:, i] = simulator.observe()\n",
    "plt.plot(z_history[0, :])\n",
    "plt.plot(np.mean(z_history[0, :]) * np.ones_like(z_history[0, :]), '--')\n",
    "plt.grid()\n",
    "plt.xlabel('Iteration (-)')\n",
    "plt.ylabel('Observation (m)')\n",
    "plt.title('Observation Simulation')\n",
    "\n",
    "plt.figure()\n",
    "plt.grid()\n",
    "plt.hist(z_history[0, :], 100)\n",
    "plt.xlabel('Position (m)')\n",
    "plt.ylabel('Frequency (-)')\n",
    "plt.title('Histogram of Observations')\n",
    "\n",
    "print('Mean: ', np.mean(z_history[0, :]))\n",
    "print('Std: ', np.std(z_history[0, :]))"
   ]
  },
  {
   "cell_type": "markdown",
   "metadata": {
    "deletable": false,
    "editable": false,
    "nbgrader": {
     "cell_type": "markdown",
     "checksum": "c8f88a59f0e40c37fb3230fa575abbf1",
     "grade": false,
     "grade_id": "cell-8b163c089e648781",
     "locked": true,
     "schema_version": 3,
     "solution": false,
     "task": false
    }
   },
   "source": [
    "A seguir, define-se um filtro de Kalman. O filtro de Kalman consiste de dois passos: predição e filtragem. O passo de predição é dado pelas seguintes equações:\n",
    "\\begin{equation}\n",
    "\\hat{\\mathbf{x}}^-_t = \\mathbf{A} \\hat{\\mathbf{x}}_{t-1}^+ + \\mathbf{B} \\mathbf{u}_t,\n",
    "\\end{equation}\n",
    "\\begin{equation}\n",
    "\\mathbf{P}^-_t = \\mathbf{A} \\mathbf{P}^+_{t-1} \\mathbf{A} + \\mathbf{Q},\n",
    "\\end{equation}\n",
    "em que $\\hat{\\mathbf{x}}^-_t$ e $\\mathbf{P}^-_t$ representam, respectivamente, a média e a covariância da estimativa no tempo de amostragem $t$, antes de incorporar a observação. Já o passo de filtragem é dado pelas seguintes equações:\n",
    "\\begin{equation}\n",
    "\\mathbf{K}_t = \\mathbf{P}^-_t \\mathbf{C}^T (\\mathbf{R} + \\mathbf{C} \\mathbf{P}^-_t \\mathbf{C}^T)^{-1},\n",
    "\\end{equation}\n",
    "\\begin{equation}\n",
    "\\hat{\\mathbf{x}}^+_t = \\hat{\\mathbf{x}}^-_t + \\mathbf{K}_t (\\mathbf{z}_t - \\mathbf{C} \\hat{\\mathbf{x}}^-_t),\n",
    "\\end{equation}\n",
    "\\begin{equation}\n",
    "\\mathbf{P}^+_t = \\mathbf{P}^-_t - \\mathbf{K}_t \\mathbf{C} \\mathbf{P}^-_t,\n",
    "\\end{equation}\n",
    "em que $\\hat{\\mathbf{x}}^+_t$ e $\\mathbf{P}^+_t$ são, respectivamente, a média e a covariância da estimativa no tempo de amostragem $t$, após incorporar a observação."
   ]
  },
  {
   "cell_type": "code",
   "execution_count": null,
   "metadata": {
    "deletable": false,
    "editable": false,
    "nbgrader": {
     "cell_type": "code",
     "checksum": "bac34a4166e4e590485d53d281d7760b",
     "grade": false,
     "grade_id": "cell-27186d578ee1a66d",
     "locked": true,
     "schema_version": 3,
     "solution": false,
     "task": false
    }
   },
   "outputs": [],
   "source": [
    "class KalmanFilter:\n",
    "    \"\"\"\n",
    "    This class represents a Kalman filter. It considers a \n",
    "    time-invariant stochastic dynamical system as its model.\n",
    "    \"\"\"\n",
    "    def __init__(self, A, B, C, Q, R, x0, P0):\n",
    "        \"\"\"\n",
    "        Initializes the Kalman filter.\n",
    "        :param A: the state transition matrix.\n",
    "        :param B: the input matrix.\n",
    "        :param C: the observation matrix.\n",
    "        :param Q: the covariance matrix of the process noise.\n",
    "        :param R: the covariance matrix of the observation noise.\n",
    "        :param x0: the initial mean of the estimate.\n",
    "        :param P0: the initial covariance matrix of the estimate.\n",
    "        \"\"\"\n",
    "        self.A = A\n",
    "        self.B = B\n",
    "        self.C = C\n",
    "        self.Q = Q\n",
    "        self.R = R\n",
    "        self.reset(x0, P0)\n",
    "        \n",
    "    def reset(self, x0, P0):\n",
    "        \"\"\"\n",
    "        Resets the filter.\n",
    "        :param x0: the new mean of the estimate after the reset.\n",
    "        :param P0: the covariance matrix of the estimate after the reset.\n",
    "        \"\"\"\n",
    "        self.x = x0\n",
    "        self.P = P0"
   ]
  },
  {
   "cell_type": "markdown",
   "metadata": {
    "deletable": false,
    "editable": false,
    "nbgrader": {
     "cell_type": "markdown",
     "checksum": "4370e01ca440a61513c38f196f2199db",
     "grade": false,
     "grade_id": "cell-97a98b4d0b683423",
     "locked": true,
     "schema_version": 3,
     "solution": false,
     "task": false
    }
   },
   "source": [
    "A seguir, implemente o método `predict()`, que realiza um passo de predição do filtro de Kalman."
   ]
  },
  {
   "cell_type": "code",
   "execution_count": null,
   "metadata": {
    "deletable": false,
    "nbgrader": {
     "cell_type": "code",
     "checksum": "90d834b9646b728cc6b53f5e095dbef0",
     "grade": false,
     "grade_id": "predict_answer",
     "locked": false,
     "schema_version": 3,
     "solution": true,
     "task": false
    }
   },
   "outputs": [],
   "source": [
    "def predict(self, u : np.ndarray):\n",
    "    \"\"\"\n",
    "    Executes a prediction step.\n",
    "    :param u: the control input.\n",
    "    :return x: updated mean of the estimate.\n",
    "    :return P: updated covariance matrix of the estimate.\n",
    "    \"\"\"\n",
    "    # YOUR CODE HERE\n",
    "    raise NotImplementedError()\n",
    "    return self.x, self.P\n",
    "\n",
    "# Adding the predict() method to the KalmanFilter class\n",
    "KalmanFilter.predict = predict"
   ]
  },
  {
   "cell_type": "code",
   "execution_count": null,
   "metadata": {
    "deletable": false,
    "editable": false,
    "nbgrader": {
     "cell_type": "code",
     "checksum": "d4f1049f9c253fee8ab9eb27f7c2281d",
     "grade": true,
     "grade_id": "predict_tests",
     "locked": true,
     "points": 2,
     "schema_version": 3,
     "solution": false,
     "task": false
    }
   },
   "outputs": [],
   "source": [
    "T = 0.1\n",
    "sigma_acc = 2.0\n",
    "sigma_cam = 0.9\n",
    "x0 = np.array([[0.1], [1.0]])\n",
    "P0 = np.identity(2)\n",
    "u = np.array([[1.0]])\n",
    "A, B, C, Q, R = get_system_1d(T, sigma_acc, sigma_cam)\n",
    "reset_seed()\n",
    "\n",
    "filter = KalmanFilter(A, B, C, Q, R, x0, P0)\n",
    "filter.predict(u)\n",
    "print(filter.x)\n",
    "print(filter.P)\n",
    "assert np.max(np.abs(filter.x - np.array([[0.205], [1.1]]))) < 1e-3\n",
    "assert np.max(np.abs(filter.P - np.array([[1.0101, 0.102], [0.102,  1.04]]))) < 1e-3"
   ]
  },
  {
   "cell_type": "markdown",
   "metadata": {
    "deletable": false,
    "editable": false,
    "nbgrader": {
     "cell_type": "markdown",
     "checksum": "5ce99239361b61e97a1d819b2be35299",
     "grade": false,
     "grade_id": "cell-7bf1e984e986fecd",
     "locked": true,
     "schema_version": 3,
     "solution": false,
     "task": false
    }
   },
   "source": [
    "O código a seguir realiza um experimento em que um filtro de Kalman é inicializado com o mesmo estado do simulador, mas a estimativa é atualizada apenas com passos de predição. Desse modo, a estimativa tende a divergir do estado real ao longo do tempo, pois não há correções através de observações. Chama-se este fenômeno de *drift* (deriva)."
   ]
  },
  {
   "cell_type": "code",
   "execution_count": null,
   "metadata": {
    "deletable": false,
    "editable": false,
    "nbgrader": {
     "cell_type": "code",
     "checksum": "e33843725fef25cc89cf00aef6a9c990",
     "grade": false,
     "grade_id": "cell-e2028a947bc00a1b",
     "locked": true,
     "schema_version": 3,
     "solution": false,
     "task": false
    }
   },
   "outputs": [],
   "source": [
    "T = 0.1\n",
    "sigma_acc = 2.0\n",
    "sigma_cam = 0.9\n",
    "x0 = np.array([[0.1], [1.0]])\n",
    "P0 = np.identity(2)\n",
    "u = np.array([[1.0]])\n",
    "A, B, C, Q, R = get_system_1d(T, sigma_acc, sigma_cam)\n",
    "reset_seed()\n",
    "\n",
    "num_steps = 100\n",
    "time = T * np.arange(num_steps) + T\n",
    "x_history = np.zeros((A.shape[0], num_steps))\n",
    "z_history = np.zeros((C.shape[0], num_steps))\n",
    "xhat_history = np.zeros((A.shape[0], num_steps))\n",
    "simulator = StochasticDynamicalSystemSimulator(A, B, C, Q, R, x0)\n",
    "filter = KalmanFilter(A, B, C, Q, R, x0, P0)\n",
    "for i in range(num_steps):\n",
    "    x_history[:, i] = simulator.step(u).T\n",
    "    z_history[:, i] = simulator.observe()\n",
    "    xhat, _ = filter.predict(u)\n",
    "    xhat_history[:, i] = xhat.T\n",
    "    \n",
    "plt.figure()\n",
    "plt.plot(time, x_history[0, :])\n",
    "plt.plot(time, xhat_history[0, :])\n",
    "plt.plot(time, z_history[0, :], '.')\n",
    "plt.grid()\n",
    "plt.xlabel('Time (s)')\n",
    "plt.ylabel('Position (m)')\n",
    "plt.title('Position Filtering (Prediction Only)')\n",
    "plt.legend(['Ground Truth', 'Estimate', 'Observation'])\n",
    "\n",
    "plt.figure()\n",
    "plt.plot(time, x_history[1, :])\n",
    "plt.plot(time, xhat_history[1, :])\n",
    "plt.grid()\n",
    "plt.xlabel('Time (s)')\n",
    "plt.ylabel('Velocity (m/s)')\n",
    "plt.title('Velocity Filtering (Prediction Only)')\n",
    "plt.legend(['Ground Truth', 'Estimate'])"
   ]
  },
  {
   "cell_type": "markdown",
   "metadata": {
    "deletable": false,
    "editable": false,
    "nbgrader": {
     "cell_type": "markdown",
     "checksum": "e0be039e5e5de3068f781b446594e87b",
     "grade": false,
     "grade_id": "cell-0ad4d5d8bfdcbf1e",
     "locked": true,
     "schema_version": 3,
     "solution": false,
     "task": false
    }
   },
   "source": [
    "A seguir, implemente o método `filter()`, que realiza um passo de filtragem do filtro de Kalman."
   ]
  },
  {
   "cell_type": "code",
   "execution_count": null,
   "metadata": {
    "deletable": false,
    "nbgrader": {
     "cell_type": "code",
     "checksum": "70b7f4cd22d24309560e122cb2ac0af4",
     "grade": false,
     "grade_id": "filter_answer",
     "locked": false,
     "schema_version": 3,
     "solution": true,
     "task": false
    }
   },
   "outputs": [],
   "source": [
    "def filter(self, z):\n",
    "    \"\"\"\n",
    "    Executes a filtering step.\n",
    "    :param z: observation.\n",
    "    :return x: updated mean of the estimate.\n",
    "    :return P: updated covariance matrix of the estimate.\n",
    "    \"\"\"\n",
    "    # YOUR CODE HERE\n",
    "    raise NotImplementedError()\n",
    "    return self.x, self.P\n",
    "\n",
    "# Adding the filter() method to the KalmanFilter class\n",
    "KalmanFilter.filter = filter"
   ]
  },
  {
   "cell_type": "code",
   "execution_count": null,
   "metadata": {
    "deletable": false,
    "editable": false,
    "nbgrader": {
     "cell_type": "code",
     "checksum": "ec36e725fd49a7f340d2f3ed4b702afd",
     "grade": true,
     "grade_id": "filter_tests",
     "locked": true,
     "points": 2,
     "schema_version": 3,
     "solution": false,
     "task": false
    }
   },
   "outputs": [],
   "source": [
    "T = 0.1\n",
    "sigma_acc = 2.0\n",
    "sigma_cam = 0.9\n",
    "x0 = np.array([[0.1], [1.0]])\n",
    "P0 = np.identity(2)\n",
    "z = np.array([[3.0]])\n",
    "A, B, C, Q, R = get_system_1d(T, sigma_acc, sigma_cam)\n",
    "reset_seed()\n",
    "\n",
    "filter = KalmanFilter(A, B, C, Q, R, x0, P0)\n",
    "filter.filter(z)\n",
    "print(filter.x)\n",
    "print(filter.P)\n",
    "assert np.max(np.abs(filter.x - np.array([[1.70220994], [1.0]]))) < 1e-3\n",
    "assert np.max(np.abs(filter.P - np.array([[0.44751381, 0.0], [0.0,  1.0]]))) < 1e-3"
   ]
  },
  {
   "cell_type": "markdown",
   "metadata": {
    "deletable": false,
    "editable": false,
    "nbgrader": {
     "cell_type": "markdown",
     "checksum": "2fb6c740f12daaf9a990766b870d564a",
     "grade": false,
     "grade_id": "cell-daf1b4faff8f7663",
     "locked": true,
     "schema_version": 3,
     "solution": false,
     "task": false
    }
   },
   "source": [
    "A seguir, realiza-se uma simulação do filtro de Kalman completo, considerando passos de predição e de atualização. Neste caso, considera-se que o filtro tem acesso ao comando de controle $\\mathbf{u}_t$. A estimativa da observação da velocidade é obtida por derivação numérica:\n",
    "\\begin{equation}\n",
    "\\dot{x}_t = \\frac{x_t - x_{t-1}}{T}.\n",
    "\\end{equation}\n",
    "Perceba como o filtro de Kalman tem um desempenho muito superior na estimativa de velocidade, quando comparado a uma derivação numérica. Conforme discutido em sala, derivação tende a amplificar ruído."
   ]
  },
  {
   "cell_type": "code",
   "execution_count": null,
   "metadata": {
    "deletable": false,
    "editable": false,
    "nbgrader": {
     "cell_type": "code",
     "checksum": "110491f5c85ecd576fa7a9a2f76e699c",
     "grade": false,
     "grade_id": "cell-cd975f95a36e617b",
     "locked": true,
     "schema_version": 3,
     "solution": false,
     "task": false
    }
   },
   "outputs": [],
   "source": [
    "T = 0.1\n",
    "sigma_acc = 2.0\n",
    "sigma_cam = 0.9\n",
    "x0 = np.array([[0.1], [1.0]])\n",
    "x0_filter = np.array([[0.0], [0.0]]) # so the filter starts with a wrong estimate\n",
    "P0 = np.identity(2)\n",
    "u = np.array([[1.0]])\n",
    "A, B, C, Q, R = get_system_1d(T, sigma_acc, sigma_cam)\n",
    "reset_seed()\n",
    "\n",
    "num_steps = 100\n",
    "time = T * np.arange(num_steps) + T\n",
    "x_history = np.zeros((A.shape[0], num_steps))\n",
    "z_history = np.zeros((C.shape[0], num_steps))\n",
    "dz_history = np.zeros((C.shape[0], num_steps))\n",
    "xhat_history = np.zeros((A.shape[0], num_steps))\n",
    "simulator = StochasticDynamicalSystemSimulator(A, B, C, Q, R, x0)\n",
    "filter = KalmanFilter(A, B, C, Q, R, x0_filter, P0)\n",
    "for i in range(num_steps):\n",
    "    x_history[:, i] = simulator.step(u).T\n",
    "    z_history[:, i] = simulator.observe()\n",
    "    filter.predict(u)\n",
    "    xhat, _ = filter.filter(z_history[:, i])\n",
    "    xhat_history[:, i] = xhat.T\n",
    "\n",
    "plt.figure()\n",
    "plt.plot(time, x_history[0, :])\n",
    "plt.plot(time, xhat_history[0, :])\n",
    "plt.plot(time, z_history[0, :], '.', zorder=-1)\n",
    "dz_history[0, 1:] = (1.0 / T) * np.diff(z_history[0, :])\n",
    "plt.grid()\n",
    "plt.xlabel('Time (s)')\n",
    "plt.ylabel('Position (m)')\n",
    "plt.title('Position Filtering')\n",
    "plt.legend(['Ground Truth', 'Estimate'])\n",
    "\n",
    "plt.figure()\n",
    "plt.plot(time, x_history[1, :])\n",
    "plt.plot(time, xhat_history[1, :])\n",
    "plt.plot(time, dz_history[0, :], '.', zorder=-1)\n",
    "plt.grid()\n",
    "plt.xlabel('Time (s)')\n",
    "plt.ylabel('Velocity (m/s)')\n",
    "plt.title('Velocity Filtering')\n",
    "plt.legend(['Ground Truth', 'Estimate'])\n",
    "\n",
    "plt.figure()\n",
    "plt.plot(time, x_history[1, :])\n",
    "plt.plot(time, xhat_history[1, :])\n",
    "plt.plot(time, dz_history[0, :], '.', zorder=-1)\n",
    "plt.ylim(0, 10)\n",
    "plt.grid()\n",
    "plt.xlabel('Time (s)')\n",
    "plt.ylabel('Velocity (m/s)')\n",
    "plt.title('Velocity Filtering (Zoom)')\n",
    "plt.legend(['Ground Truth', 'Estimate'])"
   ]
  },
  {
   "cell_type": "markdown",
   "metadata": {
    "deletable": false,
    "editable": false,
    "nbgrader": {
     "cell_type": "markdown",
     "checksum": "983e6a0170fc03cf4fe25fe4be322281",
     "grade": false,
     "grade_id": "cell-75125ed37cf5dcc6",
     "locked": true,
     "schema_version": 3,
     "solution": false,
     "task": false
    }
   },
   "source": [
    "Como discutido em sala, na prática, em um problema de rastreamento (*tracking*), o rastreador não tem acesso ao comando de controle, de modo que se considera $\\mathbf{u}_t=\\mathbf{0}$. A seguir, a mesma simulação da célula anterior é repetida, porém assumindo que o filtro recebe $\\mathbf{u}_t=\\mathbf{0}$ no passo de predição, que não condiz com a aceleração efetivamente realizada pelo alvo. Esse descasamento entre o filtro e a realidade faz com que o filtro demore mais a convergir no caso da célula a seguir em comparação com o da anterior, como pode ser observado especialmente no último gráfico mostrado (gráfico da velocidade com *zoom*)."
   ]
  },
  {
   "cell_type": "code",
   "execution_count": null,
   "metadata": {
    "deletable": false,
    "editable": false,
    "nbgrader": {
     "cell_type": "code",
     "checksum": "27ac1d43e5e557940bbfa5da79b060ae",
     "grade": false,
     "grade_id": "cell-f0e7344625b8f0db",
     "locked": true,
     "schema_version": 3,
     "solution": false,
     "task": false
    }
   },
   "outputs": [],
   "source": [
    "T = 0.1\n",
    "sigma_acc = 2.0\n",
    "sigma_cam = 0.9\n",
    "x0 = np.array([[0.1], [1.0]])\n",
    "x0_filter = np.array([[0.0], [0.0]]) # so the filter starts with a wrong estimate\n",
    "P0 = np.identity(2)\n",
    "u = np.array([[1.0]])\n",
    "A, B, C, Q, R = get_system_1d(T, sigma_acc, sigma_cam)\n",
    "reset_seed()\n",
    "\n",
    "num_steps = 100\n",
    "time = T * np.arange(num_steps) + T\n",
    "x_history = np.zeros((A.shape[0], num_steps))\n",
    "z_history = np.zeros((C.shape[0], num_steps))\n",
    "dz_history = np.zeros((C.shape[0], num_steps))\n",
    "xhat_history = np.zeros((A.shape[0], num_steps))\n",
    "simulator = StochasticDynamicalSystemSimulator(A, B, C, Q, R, x0)\n",
    "filter = KalmanFilter(A, B, C, Q, R, x0_filter, P0)\n",
    "for i in range(num_steps):\n",
    "    x_history[:, i] = simulator.step(u).T\n",
    "    z_history[:, i] = simulator.observe().T\n",
    "    filter.predict(np.array([[0.0]]))\n",
    "    xhat, _ = filter.filter(z_history[:, i])\n",
    "    xhat_history[:, i] = xhat.T\n",
    "\n",
    "plt.figure()\n",
    "plt.plot(time, x_history[0, :])\n",
    "plt.plot(time, xhat_history[0, :])\n",
    "plt.plot(time, z_history[0, :], '.', zorder=-1)\n",
    "dz_history[0, 1:] = (1.0 / T) * np.diff(z_history[0, :])\n",
    "plt.grid()\n",
    "plt.xlabel('Time (s)')\n",
    "plt.ylabel('Position (m)')\n",
    "plt.title('Position Tracking')\n",
    "plt.legend(['Ground Truth', 'Estimate'])\n",
    "\n",
    "plt.figure()\n",
    "plt.plot(time, x_history[1, :])\n",
    "plt.plot(time, xhat_history[1, :])\n",
    "plt.plot(time, dz_history[0, :], '.', zorder=-1)\n",
    "plt.grid()\n",
    "plt.xlabel('Time (s)')\n",
    "plt.ylabel('Velocity (m/s)')\n",
    "plt.title('Velocity Tracking')\n",
    "plt.legend(['Ground Truth', 'Estimate'])\n",
    "\n",
    "plt.figure()\n",
    "plt.plot(time, x_history[1, :])\n",
    "plt.plot(time, xhat_history[1, :])\n",
    "plt.plot(time, dz_history[0, :], '.', zorder=-1)\n",
    "plt.ylim(-1, 10)\n",
    "plt.grid()\n",
    "plt.xlabel('Time (s)')\n",
    "plt.ylabel('Velocity (m/s)')\n",
    "plt.title('Velocity Tracking (Zoom)')\n",
    "plt.legend(['Ground Truth', 'Estimate'])"
   ]
  },
  {
   "cell_type": "markdown",
   "metadata": {
    "deletable": false,
    "editable": false,
    "nbgrader": {
     "cell_type": "markdown",
     "checksum": "7941cdf6cb09b4a3c0199a27298c05ef",
     "grade": false,
     "grade_id": "cell-74180ac6d81181ca",
     "locked": true,
     "schema_version": 3,
     "solution": false,
     "task": false
    }
   },
   "source": [
    "Conforme apresentado em sala, em um problema de rastreamento de um objeto numa imagem, costuma-se usar um modelo cinemático 2D, em que o vetor de estados contém posições e velocidades nos eixos $x$ e $y$:\n",
    "\\begin{equation}\n",
    "\\mathbf{x}_t = \n",
    "\\begin{bmatrix}\n",
    "x_t \\\\ y_t \\\\ \\dot{x}_t \\\\ \\dot{y}_t\n",
    "\\end{bmatrix}.\n",
    "\\end{equation}\n",
    "\n",
    "Com isso, o espaço de estados geralmente usado é dado por\n",
    "\\begin{equation}\n",
    "\\mathbf{A} = \n",
    "\\begin{bmatrix}\n",
    "1 & 0 & T & 0 \\\\\n",
    "0 & 1 & 0 & T \\\\\n",
    "0 & 0 & 1 & 0 \\\\\n",
    "0 & 0 & 0 & 1\n",
    "\\end{bmatrix},\n",
    "\\end{equation}\n",
    "\\begin{equation}\n",
    "\\mathbf{B} = \n",
    "\\begin{bmatrix}\n",
    "\\dfrac{T^2}{2} & 0 \\\\\n",
    "0 & \\dfrac{T^2}{2} \\\\\n",
    "T & 0 \\\\\n",
    "0 & T\n",
    "\\end{bmatrix},\n",
    "\\end{equation}\n",
    "\\begin{equation}\n",
    "\\mathbf{C} = \n",
    "\\begin{bmatrix}\n",
    "1 & 0 & 0 & 0 \\\\\n",
    "0 & 1 & 0 & 0\n",
    "\\end{bmatrix},\n",
    "\\end{equation}\n",
    "\\begin{equation}\n",
    "\\mathbf{M} =\n",
    "\\begin{bmatrix}\n",
    "\\sigma^2_{\\mathrm{acc}} & 0 \\\\\n",
    "0 & \\sigma^2_{\\mathrm{acc}}\n",
    "\\end{bmatrix},\n",
    "\\end{equation}\n",
    "\\begin{equation}\n",
    "\\mathbf{Q} =\n",
    "\\mathbf{B} \\mathbf{M} \\mathbf{B}^T,\n",
    "\\end{equation}\n",
    "\\begin{equation}\n",
    "\\mathbf{R} =\n",
    "\\begin{bmatrix}\n",
    "\\sigma^2_{\\mathrm{cam}} & 0 \\\\\n",
    "0 & \\sigma^2_{\\mathrm{cam}}\n",
    "\\end{bmatrix}.\n",
    "\\end{equation}"
   ]
  },
  {
   "cell_type": "code",
   "execution_count": null,
   "metadata": {
    "deletable": false,
    "nbgrader": {
     "cell_type": "code",
     "checksum": "8a96da73b336131671aab2ed3c76c0d4",
     "grade": false,
     "grade_id": "system_2d_answer",
     "locked": false,
     "schema_version": 3,
     "solution": true,
     "task": false
    }
   },
   "outputs": [],
   "source": [
    "def get_system_2d(T, sigma_acc, sigma_cam):\n",
    "    \"\"\"\n",
    "    Obtains a stochastic dynamical system based on kinematics equations along a single axis \n",
    "    whose states are 2D position and velocity, and the input is 2D acceleration. Moreover, the\n",
    "    observation is the 2D position.\n",
    "    :return A: the state transition matrix.\n",
    "    :return B: the input matrix.\n",
    "    :return C: the observation matrix.\n",
    "    :return Q: the covariance matrix of the process noise.\n",
    "    :return R: the covariance matrix of the observation noise.\n",
    "    \"\"\"\n",
    "    # YOUR CODE HERE\n",
    "    raise NotImplementedError()\n",
    "    return A, B, C, Q, R"
   ]
  },
  {
   "cell_type": "code",
   "execution_count": null,
   "metadata": {
    "deletable": false,
    "editable": false,
    "nbgrader": {
     "cell_type": "code",
     "checksum": "644aa019442d4fd6dcf47bfb3f225228",
     "grade": true,
     "grade_id": "system_2d_tests",
     "locked": true,
     "points": 2,
     "schema_version": 3,
     "solution": false,
     "task": false
    }
   },
   "outputs": [],
   "source": [
    "T = 0.1\n",
    "sigma_acc = 2.0\n",
    "sigma_cam = 0.9\n",
    "x0 = np.array([[0.0],\n",
    "               [0.0],\n",
    "               [0.0],\n",
    "               [0.0]])\n",
    "P0 = np.identity(4)\n",
    "u = np.array([[1.0],\n",
    "              [1.0]])\n",
    "A, B, C, Q, R = get_system_2d(T, sigma_acc, sigma_cam)\n",
    "reset_seed()\n",
    "\n",
    "simulator = StochasticDynamicalSystemSimulator(A, B, C, Q, R, x0)\n",
    "x = simulator.step(u)\n",
    "print(x)\n",
    "assert np.max(np.abs(x - np.array([[3.28589601e-05], [3.61735584e-03], [6.57169373e-04], [7.23471398e-02]]))) < 1e-3\n",
    "z = simulator.observe()\n",
    "print(z)\n",
    "assert np.max(np.abs(z - np.array([[-0.21070518], [-0.20710591]]))) < 1e-3"
   ]
  },
  {
   "cell_type": "markdown",
   "metadata": {
    "deletable": false,
    "editable": false,
    "nbgrader": {
     "cell_type": "markdown",
     "checksum": "89e93a7d322222261410198f90ff85fa",
     "grade": false,
     "grade_id": "cell-92de89d411ed65dd",
     "locked": true,
     "schema_version": 3,
     "solution": false,
     "task": false
    }
   },
   "source": [
    "No experimento da célula a seguir, verifica-se o funcionamento de um rastreador 2D baseado em filtro de Kalman. Simula-se 500 passos de simulação com $T = 0{,}1 \\ s$. Nos instantes $t \\in [270, 300)$, simula-se perda da detecção do objeto (que pode ocorrer devido a uma oclusão, por exemplo), de modo que o filtro permanece apenas realizando passos de predição. Destaca-se que o filtro é capaz de manter uma estimativa razoável até que a detecção retorne."
   ]
  },
  {
   "cell_type": "code",
   "execution_count": null,
   "metadata": {
    "deletable": false,
    "editable": false,
    "nbgrader": {
     "cell_type": "code",
     "checksum": "ed5f67f4da8f725c9d15390ea21c0187",
     "grade": false,
     "grade_id": "cell-0e5c62e900316074",
     "locked": true,
     "schema_version": 3,
     "solution": false,
     "task": false
    }
   },
   "outputs": [],
   "source": [
    "T = 0.1\n",
    "sigma_acc = 2.0\n",
    "sigma_cam = 0.9\n",
    "x0 = np.array([[0.0],\n",
    "               [0.0],\n",
    "               [0.0],\n",
    "               [0.0]])\n",
    "P0 = np.identity(4)\n",
    "u = np.array([[1.0],\n",
    "              [1.0]])\n",
    "A, B, C, Q, R = get_system_2d(T, sigma_acc, sigma_cam)\n",
    "reset_seed()\n",
    "\n",
    "num_steps = 500\n",
    "time = T * np.arange(num_steps) + T\n",
    "x_history = np.zeros((A.shape[0], num_steps))\n",
    "z_history = np.zeros((C.shape[0], num_steps))\n",
    "dz_history = np.zeros((C.shape[0], num_steps))\n",
    "xhat_history = np.zeros((A.shape[0], num_steps))\n",
    "simulator = StochasticDynamicalSystemSimulator(A, B, C, Q, R, x0)\n",
    "filter = KalmanFilter(A, B, C, Q, R, x0, P0)\n",
    "for i in range(num_steps):\n",
    "    t = i * T\n",
    "    u[0, 0] = sin(t / (2.0 * pi) + pi / 2.0)\n",
    "    u[1, 0] = sin(t / (2.0 * pi) * t)\n",
    "    x_history[:, i] = simulator.step(u)[:, 0]\n",
    "    z_history[:, i] = simulator.observe()[:, 0]\n",
    "    x, _ = filter.predict(np.array([[0.0], [0.0]]))\n",
    "    if i >= 270 and i < 300:\n",
    "        z_history[:, i] = np.array([inf, inf])\n",
    "    else:\n",
    "        filter.filter(np.array([z_history[:, i]]).T)\n",
    "    xhat_history[:, i] = (filter.x)[:, 0]\n",
    "    \n",
    "plt.figure()\n",
    "plt.plot(x_history[0, :], x_history[1, :])\n",
    "plt.plot(xhat_history[0, :], xhat_history[1, :])\n",
    "plt.plot(z_history[0, :], z_history[1, :], '.', zorder=-1)\n",
    "plt.grid()\n",
    "plt.xlabel('X (m)')\n",
    "plt.ylabel('Y (m)')\n",
    "plt.title('X-Y view')\n",
    "plt.legend(['Ground Truth', 'Estimate', 'Observation'])\n",
    "\n",
    "plt.figure()\n",
    "plt.plot(time, x_history[2, :])\n",
    "plt.plot(time, xhat_history[2, :])\n",
    "plt.grid()\n",
    "plt.xlabel('Time (s)')\n",
    "plt.ylabel('X Velocity (m/s)')\n",
    "plt.title('X Velocity Tracking')\n",
    "plt.legend(['Ground Truth', 'Estimate'])\n",
    "\n",
    "plt.figure()\n",
    "plt.plot(time, x_history[3, :])\n",
    "plt.plot(time, xhat_history[3, :])\n",
    "plt.grid()\n",
    "plt.xlabel('Time (s)')\n",
    "plt.ylabel('Y Velocity (m/s)')\n",
    "plt.title('Y Velocity Tracking')\n",
    "plt.legend(['Ground Truth', 'Estimate'])"
   ]
  }
 ],
 "metadata": {
  "kernelspec": {
   "display_name": "Python 3 (ipykernel)",
   "language": "python",
   "name": "python3"
  },
  "language_info": {
   "codemirror_mode": {
    "name": "ipython",
    "version": 3
   },
   "file_extension": ".py",
   "mimetype": "text/x-python",
   "name": "python",
   "nbconvert_exporter": "python",
   "pygments_lexer": "ipython3",
   "version": "3.8.13"
  }
 },
 "nbformat": 4,
 "nbformat_minor": 1
}
